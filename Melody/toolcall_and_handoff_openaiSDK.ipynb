{
 "cells": [
  {
   "cell_type": "code",
   "execution_count": 1,
   "metadata": {},
   "outputs": [],
   "source": [
    "from dotenv import load_dotenv\n",
    "from agents import Agent, Runner, trace, function_tool\n",
    "from openai.types.responses import ResponseTextDeltaEvent\n",
    "from typing import Dict\n",
    "import sendgrid\n",
    "import os\n",
    "from sendgrid.helpers.mail import Mail, Email, To, Content\n",
    "import asyncio"
   ]
  },
  {
   "cell_type": "code",
   "execution_count": 10,
   "metadata": {},
   "outputs": [
    {
     "data": {
      "text/plain": [
       "True"
      ]
     },
     "execution_count": 10,
     "metadata": {},
     "output_type": "execute_result"
    }
   ],
   "source": [
    "load_dotenv(override=True)"
   ]
  },
  {
   "cell_type": "code",
   "execution_count": 16,
   "metadata": {},
   "outputs": [
    {
     "name": "stdout",
     "output_type": "stream",
     "text": [
      "202\n"
     ]
    }
   ],
   "source": [
    "def send_test_email():\n",
    "    sg = sendgrid.SendGridAPIClient(api_key = os.getenv(\"SENDGRID_API_KEY\"))\n",
    "    from_email = Email(\"melodystitchqi@gmail.com\")\n",
    "    to_email = To(\"melodyq@workfx.ai\")\n",
    "    subject = \"Good Morning\"\n",
    "    content = Content(\"text/plain\", \"and easy to do anywhere, even with Python\")\n",
    "    mail = Mail(from_email, to_email, subject, content).get()\n",
    "    response = sg.client.mail.send.post(request_body=mail)\n",
    "    print(response.status_code)\n",
    "send_test_email()"
   ]
  },
  {
   "cell_type": "code",
   "execution_count": 12,
   "metadata": {},
   "outputs": [],
   "source": [
    "instructions1 = \"You are a sales agent working for ComplAI, \\\n",
    "a company that provides a SaaS tool for ensuring SOC2 compliance and preparing for audits, powered by AI. \\\n",
    "You write professional, serious cold emails.\"\n",
    "\n",
    "instructions2 = \"You are a humorous, engaging sales agent working for ComplAI, \\\n",
    "a company that provides a SaaS tool for ensuring SOC2 compliance and preparing for audits, powered by AI. \\\n",
    "You write witty, engaging cold emails that are likely to get a response.\"\n",
    "\n",
    "instructions3 = \"You are a busy sales agent working for ComplAI, \\\n",
    "a company that provides a SaaS tool for ensuring SOC2 compliance and preparing for audits, powered by AI. \\\n",
    "You write concise, to the point cold emails.\""
   ]
  },
  {
   "cell_type": "code",
   "execution_count": 13,
   "metadata": {},
   "outputs": [],
   "source": [
    "model = \"gpt-4o-mini\""
   ]
  },
  {
   "cell_type": "code",
   "execution_count": 14,
   "metadata": {},
   "outputs": [],
   "source": [
    "sales_agent1 = Agent(\n",
    "    name=\"Professional Sales Agent\",\n",
    "    instructions=instructions1,\n",
    "    model=model\n",
    ")\n",
    "\n",
    "sales_agent2 = Agent(\n",
    "    name=\"Engaging Sales Agent\",\n",
    "    instructions=instructions2,\n",
    "    model=model\n",
    ")\n",
    "\n",
    "sales_agent3= Agent(\n",
    "    name=\"Consice Sales Agent\",\n",
    "    instructions=instructions3,\n",
    "    model=model\n",
    ")"
   ]
  },
  {
   "cell_type": "code",
   "execution_count": 18,
   "metadata": {},
   "outputs": [
    {
     "name": "stdout",
     "output_type": "stream",
     "text": [
      "Subject: Simplify SOC2 Compliance with AI\n",
      "\n",
      "Hi [Recipient's Name],\n",
      "\n",
      "I hope this message finds you well. I’m [Your Name] from ComplAI, and I wanted to reach out because we specialize in helping businesses like yours streamline SOC2 compliance using AI.\n",
      "\n",
      "Our platform automates key compliance processes, saving you time and reducing audit preparation headaches. Imagine having all your compliance needs managed efficiently in one place.\n",
      "\n",
      "Would you be open to a quick call next week to discuss how ComplAI can enhance your compliance strategy?\n",
      "\n",
      "Looking forward to your response!\n",
      "\n",
      "Best,  \n",
      "[Your Name]  \n",
      "[Your Contact Information]  \n",
      "[ComplAI Website]  "
     ]
    }
   ],
   "source": [
    "result = Runner.run_streamed(sales_agent3, input=\"Write a code sales email\")\n",
    "\n",
    "async for event in result.stream_events():\n",
    "    if event.type == \"raw_response_event\" and isinstance(event.data, ResponseTextDeltaEvent):\n",
    "        print(event.data.delta, end=\"\", flush=True)"
   ]
  },
  {
   "cell_type": "code",
   "execution_count": 19,
   "metadata": {},
   "outputs": [],
   "source": [
    "sales_picker = Agent(\n",
    "    name=\"Sales Picker\",\n",
    "    instructions = \"You pick the best cold sales email from the given options. \\\n",
    "Imagine you are a customer and pick the one you are most likely to respond to. \\\n",
    "Do not give an explanation; reply with the selected email only.\",\n",
    "    model=model\n",
    ")"
   ]
  },
  {
   "cell_type": "code",
   "execution_count": 20,
   "metadata": {},
   "outputs": [
    {
     "name": "stdout",
     "output_type": "stream",
     "text": [
      "\n",
      "\n",
      "Best email:\n",
      " Subject: Let’s Make SOC2 Compliance as Easy as Ordering Pizza 🍕\n",
      "\n",
      "Hi [First Name],\n",
      "\n",
      "Ever feel like SOC2 compliance is more complicated than deciphering ancient hieroglyphics? 😩 You’re not alone! \n",
      "\n",
      "At ComplAI, we believe compliance shouldn't require a PhD in legalese or a night spent crying over spreadsheets. Our AI-powered tool is here to save the day—like a superhero, but with fewer capes and more compliance. 🦸‍♂️\n",
      "\n",
      "Imagine breezing through audits and compliance checks while sipping your morning coffee. With ComplAI, you can:\n",
      "\n",
      "- Automate the boring stuff (goodbye, manual riffraff!)\n",
      "- Keep your team sane (no more late-night panic attacks over documents!)\n",
      "- Impress your auditors (they might even give you a high-five!)\n",
      "\n",
      "Let’s schedule a quick chat to see how we can turn your compliance chaos into a triumph. After all, who doesn’t want to be the hero of their own compliance story? 📖✨\n",
      "\n",
      "Looking forward to your reply!\n",
      "\n",
      "Best,  \n",
      "[Your Name]  \n",
      "[Your Job Title]  \n",
      "ComplAI  \n",
      "[Your Contact Information]  \n",
      "\n",
      "P.S. I promise our tool is even easier to use than calling in your pizza order—seriously! 🍕\n"
     ]
    }
   ],
   "source": [
    "message = \"Write a cold sales email\"\n",
    "with trace(\"Selection from seles people\"):\n",
    "    results = await asyncio.gather(\n",
    "        Runner.run(sales_agent1, input=message),\n",
    "        Runner.run(sales_agent2, input=message),\n",
    "        Runner.run(sales_agent3, input=message)\n",
    "    )\n",
    "    outputs = [result.final_output for result in results]\n",
    "    emails = \"Code sales email options:\\n\\n\" +\"\\n\\nEmail:\\n\\n\".join(outputs)\n",
    "    best = await Runner.run(sales_picker, emails)\n",
    "    print(\"\\n\\nBest email:\\n\", best.final_output)"
   ]
  },
  {
   "cell_type": "code",
   "execution_count": null,
   "metadata": {},
   "outputs": [],
   "source": []
  }
 ],
 "metadata": {
  "kernelspec": {
   "display_name": "agents",
   "language": "python",
   "name": "python3"
  },
  "language_info": {
   "codemirror_mode": {
    "name": "ipython",
    "version": 3
   },
   "file_extension": ".py",
   "mimetype": "text/x-python",
   "name": "python",
   "nbconvert_exporter": "python",
   "pygments_lexer": "ipython3",
   "version": "3.12.10"
  }
 },
 "nbformat": 4,
 "nbformat_minor": 2
}
